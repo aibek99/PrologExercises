{
 "cells": [
  {
   "cell_type": "code",
   "execution_count": 1,
   "metadata": {},
   "outputs": [],
   "source": [
    "family = [\"King George VI\", \"Prince Philip\", \"Charles\", \"Prince Andrew\", \"Prince Edward\", \"Prince William\", \n",
    "          \"Prince Harry\", \"Prince George of Cambridge\", \"Prince Louis of Cambridge\", \n",
    "          \"Archie Harrison Mountbatten-Windsor\", \"Queen Elizabeth\", \"Queen Elizabeth II\", \n",
    "          \"Princess Margaret\", \"Camila\", \"Diana\", \"Anne\", \"Catherine\", \"Meghan\", \n",
    "          \"Princess Charlotte of Cambridge\"]\n",
    "\n",
    "with open('test_pairs.txt', 'w') as f:\n",
    "    for i in family:\n",
    "        for j in family:\n",
    "            f.write(f'(\\'{i}\\', \\'{j}\\').\\n')\n"
   ]
  }
 ],
 "metadata": {
  "kernelspec": {
   "display_name": "Python 3.9.13 64-bit (microsoft store)",
   "language": "python",
   "name": "python3"
  },
  "language_info": {
   "codemirror_mode": {
    "name": "ipython",
    "version": 3
   },
   "file_extension": ".py",
   "mimetype": "text/x-python",
   "name": "python",
   "nbconvert_exporter": "python",
   "pygments_lexer": "ipython3",
   "version": "3.9.13"
  },
  "orig_nbformat": 4,
  "vscode": {
   "interpreter": {
    "hash": "bb9310efac08fce059a283fb248726bef580197c2e0265fc4bbc6c5fc5db234f"
   }
  }
 },
 "nbformat": 4,
 "nbformat_minor": 2
}
